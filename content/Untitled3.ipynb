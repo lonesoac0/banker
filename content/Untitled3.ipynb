{
  "metadata": {
    "language_info": {
      "codemirror_mode": {
        "name": "python",
        "version": 3
      },
      "file_extension": ".py",
      "mimetype": "text/x-python",
      "name": "python",
      "nbconvert_exporter": "python",
      "pygments_lexer": "ipython3",
      "version": "3.8"
    },
    "kernelspec": {
      "name": "python",
      "display_name": "Python (Pyodide)",
      "language": "python"
    }
  },
  "nbformat_minor": 4,
  "nbformat": 4,
  "cells": [
    {
      "cell_type": "code",
      "source": "import pandas as pd\ndata = [\n    ['homefederalAccountBalance', 2925], \n    ['homefederalLoanBalance', -48621.72], \n    ['tvacreditunionSavings', 9870.74], \n    ['optumbankHSA', 1342.79]\n]\naccountBalances = pd.DataFrame(data, columns=['AccountName', 'Ballance'])\naccountBalances",
      "metadata": {
        "trusted": true
      },
      "execution_count": 1,
      "outputs": [
        {
          "execution_count": 1,
          "output_type": "execute_result",
          "data": {
            "text/plain": "                 AccountName  Ballance\n0  homefederalAccountBalance   2925.00\n1     homefederalLoanBalance -48621.72\n2      tvacreditunionSavings   9870.74\n3               optumbankHSA   1342.79",
            "text/html": "<div>\n<style scoped>\n    .dataframe tbody tr th:only-of-type {\n        vertical-align: middle;\n    }\n\n    .dataframe tbody tr th {\n        vertical-align: top;\n    }\n\n    .dataframe thead th {\n        text-align: right;\n    }\n</style>\n<table border=\"1\" class=\"dataframe\">\n  <thead>\n    <tr style=\"text-align: right;\">\n      <th></th>\n      <th>AccountName</th>\n      <th>Ballance</th>\n    </tr>\n  </thead>\n  <tbody>\n    <tr>\n      <th>0</th>\n      <td>homefederalAccountBalance</td>\n      <td>2925.00</td>\n    </tr>\n    <tr>\n      <th>1</th>\n      <td>homefederalLoanBalance</td>\n      <td>-48621.72</td>\n    </tr>\n    <tr>\n      <th>2</th>\n      <td>tvacreditunionSavings</td>\n      <td>9870.74</td>\n    </tr>\n    <tr>\n      <th>3</th>\n      <td>optumbankHSA</td>\n      <td>1342.79</td>\n    </tr>\n  </tbody>\n</table>\n</div>"
          },
          "metadata": {}
        }
      ]
    },
    {
      "cell_type": "code",
      "source": "liquidCash = accountBalances[accountBalances[\"AccountName\"].str.contains(\"homefederalAccountBalance|tvacreditunionSavings\")]",
      "metadata": {
        "trusted": true
      },
      "execution_count": 2,
      "outputs": []
    },
    {
      "cell_type": "code",
      "source": "liquidCash['Ballance'].sum()",
      "metadata": {
        "trusted": true
      },
      "execution_count": 3,
      "outputs": [
        {
          "execution_count": 3,
          "output_type": "execute_result",
          "data": {
            "text/plain": "12795.74"
          },
          "metadata": {}
        }
      ]
    },
    {
      "cell_type": "code",
      "source": "",
      "metadata": {},
      "execution_count": null,
      "outputs": []
    }
  ]
}